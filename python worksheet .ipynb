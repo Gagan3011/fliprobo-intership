{
 "cells": [
  {
   "cell_type": "code",
   "execution_count": null,
   "id": "1e031c20",
   "metadata": {},
   "outputs": [],
   "source": [
    "\n",
    "python program to find factorial of number"
   ]
  },
  {
   "cell_type": "code",
   "execution_count": 1,
   "id": "e47082e4",
   "metadata": {},
   "outputs": [
    {
     "name": "stdout",
     "output_type": "stream",
     "text": [
      "Input a number to compute factorial :10\n",
      "3628800\n"
     ]
    }
   ],
   "source": [
    "def factorial(n):\n",
    "    if n==0:\n",
    "        return 1\n",
    "    else:\n",
    "        return n*factorial(n-1)\n",
    "n=int(input(\"Input a number to compute factorial :\")) \n",
    "print(factorial(n))"
   ]
  },
  {
   "cell_type": "code",
   "execution_count": null,
   "id": "5e457c9a",
   "metadata": {},
   "outputs": [],
   "source": [
    "python program to find whether a number is prime or composite"
   ]
  },
  {
   "cell_type": "code",
   "execution_count": 4,
   "id": "c0d52e28",
   "metadata": {},
   "outputs": [
    {
     "name": "stdout",
     "output_type": "stream",
     "text": [
      "Enter any number: 1\n",
      "1 is not a prime number\n"
     ]
    }
   ],
   "source": [
    "\n",
    "\n",
    "# taking input from user\n",
    "number = int(input(\"Enter any number: \"))\n",
    "\n",
    "#prime number is always greater than 1\n",
    "if number > 1:\n",
    "    for i in range(2, number):\n",
    "        if (number % i) == 0: \n",
    "            print(number, \"is not a prime number\")\n",
    "            break\n",
    "    else:\n",
    "        print(number,\"is a prime number\")\n",
    "\n",
    "# if the entered number is lessthan or equal to 1\n",
    "# then it is not prime number\n",
    "else:\n",
    "    print(number,\"is not a prime number\")"
   ]
  },
  {
   "cell_type": "code",
   "execution_count": null,
   "id": "45ffe83a",
   "metadata": {},
   "outputs": [],
   "source": [
    "python program to check whether given string is palindrome or not"
   ]
  },
  {
   "cell_type": "code",
   "execution_count": 8,
   "id": "3b31c1f0",
   "metadata": {},
   "outputs": [
    {
     "name": "stdout",
     "output_type": "stream",
     "text": [
      "Enter a string: gagan\n",
      "Not a palindrome\n"
     ]
    }
   ],
   "source": [
    "#python program to check whether given string is palindrome or not\n",
    "\n",
    "string=input((\"Enter a string: \"))\n",
    "if (string == string [::-1]):\n",
    "    print(\"The string is a palindrome\")\n",
    "else:\n",
    "    print(\"Not a palindrome\")\n"
   ]
  },
  {
   "cell_type": "code",
   "execution_count": null,
   "id": "7d11f0b0",
   "metadata": {},
   "outputs": [],
   "source": [
    "python program to get the third side of right angled triangle from two given sides\n"
   ]
  },
  {
   "cell_type": "code",
   "execution_count": 9,
   "id": "eed914ba",
   "metadata": {},
   "outputs": [],
   "source": [
    "import math"
   ]
  },
  {
   "cell_type": "code",
   "execution_count": 10,
   "id": "3e309437",
   "metadata": {},
   "outputs": [
    {
     "name": "stdout",
     "output_type": "stream",
     "text": [
      "Enter base: 10\n",
      "Enter height: 10\n",
      "Enter angle: 10\n",
      "Hypotenuse = 14.142135623730951\n"
     ]
    }
   ],
   "source": [
    "a = float(input(\"Enter base: \"))\n",
    "b = float(input(\"Enter height: \"))\n",
    "x = float(input(\"Enter angle: \"))\n",
    "\n",
    "c = math.sqrt(a ** 2 + b ** 2)\n",
    "\n",
    "    \n",
    "print(\"Hypotenuse =\", c) "
   ]
  },
  {
   "cell_type": "code",
   "execution_count": null,
   "id": "478b626f",
   "metadata": {},
   "outputs": [],
   "source": [
    "python program to print the frequency of each of the characters present in the string\n",
    "\n"
   ]
  },
  {
   "cell_type": "code",
   "execution_count": 12,
   "id": "55b5f979",
   "metadata": {},
   "outputs": [
    {
     "name": "stdout",
     "output_type": "stream",
     "text": [
      "Enter the string: india\n",
      "i,2\n",
      "n,1\n",
      "d,1\n",
      "a,1\n"
     ]
    }
   ],
   "source": [
    "string=input(\"Enter the string: \")\n",
    "str1=list(string)\n",
    "strlist=[]\n",
    "\n",
    "for k in str1:\n",
    "    if k not in strlist:\n",
    "        strlist.append(k)\n",
    "        count=0\n",
    "        \n",
    "        for i in range(len(str1)):\n",
    "            if k==str1[i]: \n",
    "              count+=1\n",
    "        print(\"{},{}\".format(k,count))  "
   ]
  },
  {
   "cell_type": "code",
   "execution_count": null,
   "id": "f73def0c",
   "metadata": {},
   "outputs": [],
   "source": []
  }
 ],
 "metadata": {
  "kernelspec": {
   "display_name": "Python 3 (ipykernel)",
   "language": "python",
   "name": "python3"
  },
  "language_info": {
   "codemirror_mode": {
    "name": "ipython",
    "version": 3
   },
   "file_extension": ".py",
   "mimetype": "text/x-python",
   "name": "python",
   "nbconvert_exporter": "python",
   "pygments_lexer": "ipython3",
   "version": "3.9.7"
  }
 },
 "nbformat": 4,
 "nbformat_minor": 5
}
